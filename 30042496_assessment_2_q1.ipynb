{
 "cells": [
  {
   "cell_type": "markdown",
   "metadata": {},
   "source": [
    "**Loading Libraries and writing functions to read data**"
   ]
  },
  {
   "cell_type": "code",
   "execution_count": 1,
   "metadata": {},
   "outputs": [
    {
     "name": "stderr",
     "output_type": "stream",
     "text": [
      "Loading required package: NLP\n"
     ]
    }
   ],
   "source": [
    "#Loading Libraries\n",
    "library(tm)\n",
    "eps=1e-10\n",
    "  \n",
    "# reading the data\n",
    "read.data <- function(file.name='Task2A.txt', sample.size=0, seed=100, pre.proc=TRUE, spr.ratio= 0.90) {\n",
    "  # INPUTS:\n",
    "  ## file.name: name of the input .txt file\n",
    "  ## sample.size: if == 0  reads all docs, otherwise only reads a subset of the corpus\n",
    "  ## seed: random seed for sampling (read above)\n",
    "  ## pre.proc: if TRUE performs the preprocessing (recommended)\n",
    "  ## spr.ratio: is used to reduce the sparcity of data by removing very infrequent words\n",
    "  # OUTPUTS:\n",
    "  ## docs: the unlabled corpus (each row is a document)\n",
    "  ## word.doc.mat: the count matrix (each rows and columns corresponds to words and documents, respectively)\n",
    "  ## label: the real cluster labels (will be used in visualization/validation and not for clustering)\n",
    "  \n",
    "  # Read the data\n",
    "  text <- readLines(file.name)\n",
    "  # select a subset of data if sample.size > 0\n",
    "  if (sample.size>0){\n",
    "    set.seed(seed)\n",
    "    text <- text[sample(length(text), sample.size)]\n",
    "  }\n",
    "  ## the terms before the first '\\t' are the lables (the newsgroup names) and all the remaining text after '\\t' are the actual documents\n",
    "  docs <- strsplit(text, '\\t')\n",
    "  # store the labels for evaluation\n",
    "  labels <-  unlist(lapply(docs, function(x) x[1]))\n",
    "  # store the unlabeled texts    \n",
    "  uid <- paste0(\"doc_\", formatC(1:length(docs), width = 4, format = \"d\", flag = \"0\"))\n",
    "  docs <- data.frame(doc_id = uid, text = unlist(lapply(docs, function(x) x[2])))\n",
    "  \n",
    "  \n",
    "# create a corpus\n",
    "  docs <- DataframeSource(docs)\n",
    "  corp <- Corpus(docs)\n",
    "  \n",
    "  # Preprocessing:\n",
    "  if (pre.proc){\n",
    "    corp <- tm_map(corp, removeWords, stopwords(\"english\")) # remove stop words (the most common word in a language that can be find in any document)\n",
    "    corp <- tm_map(corp, removePunctuation) # remove pnctuation\n",
    "    corp <- tm_map(corp, stemDocument) # perform stemming (reducing inflected and derived words to their root form)\n",
    "    corp <- tm_map(corp, removeNumbers) # remove all numbers\n",
    "    corp <- tm_map(corp, stripWhitespace) # remove redundant spaces \n",
    "  }  \n",
    "  # Create a matrix which its rows are the documents and colomns are the words. \n",
    "  dtm <- DocumentTermMatrix(corp)\n",
    "  ## reduce the sparcity of out dtm\n",
    "  dtm <- removeSparseTerms(dtm, spr.ratio)\n",
    "  ## convert dtm to a matrix\n",
    "  word.doc.mat <- t(as.matrix(dtm))\n",
    "  \n",
    "  # Return the result\n",
    "  return (list(\"docs\" = docs, \"word.doc.mat\"= word.doc.mat, \"labels\" = labels))\n",
    "}\n",
    "\n",
    "                                              "
   ]
  },
  {
   "cell_type": "code",
   "execution_count": 2,
   "metadata": {},
   "outputs": [],
   "source": [
    "                                                        \n",
    "## --- helper function ------------------------------------------------------------------ \n",
    "# Input:    logA1, logA2 ... logAn\n",
    "# Output:   log(A1+A2+...+An)\n",
    "#\n",
    "# This function is needed to prevent numerical overflow/underflow when working with small numbers, \n",
    "# because we can easily get small numbers by multiplying p1 * p2 * ... * pn (where 0 <= pi <= 1 are probabilities).   \n",
    "#\n",
    "# Example: Suppose we are interested in p1*p2*p3 + q1*q2+q3 where all numbers are probabilities \\in [0,1]\n",
    "#          To prevent numerical errors, we do the computation in the log space and convert the result back using the exp function \n",
    "#          Hence our approach is to form the vector v = [log(p1)+log(p2)+log(p3) , log(q1)+log(q2)+log(q3)] \n",
    "#          Then get the results by: exp(logSum(v))\n",
    "\n",
    "logSum <- function(v) {\n",
    "   m = max(v)\n",
    "   return ( m + log(sum(exp(v-m))))\n",
    "}\n",
    "\n",
    "##--- Initialize model parameters randomly --------------------------------------------\n",
    "initial.param <- function(vocab_size, K=4, seed=123456){\n",
    "  rho <- matrix(1/K,nrow = K, ncol=1)                    # assume all clusters have the same size (we will update this later on)\n",
    "  mu <- matrix(runif(K*vocab_size),nrow = K, ncol = vocab_size)    # initiate Mu \n",
    "  mu <- prop.table(mu, margin = 1)               # normalization to ensure that sum of each row is 1\n",
    "  return (list(\"rho\" = rho, \"mu\"= mu))\n",
    "}\n",
    "                                                        \n",
    "\n",
    "##--- the training objective function --------------------------------------------\n",
    "# Input: \n",
    "#    model:  the model object containing the mu and rho\n",
    "#    counts: the word-document frequency matrix\n",
    "# Output:\n",
    "#    nloglike: the negative log-likelihood i.e. log P(counts|model) \n",
    "#   \n",
    "train_obj <- function(model, counts) { \n",
    "  N <- dim(counts)[2] # number of documents\n",
    "  K <- dim(model$mu)[1]\n",
    "   \n",
    "  nloglike = 0\n",
    "  for (n in 1:N){\n",
    "    lprob <- matrix(0,ncol = 1, nrow=K)\n",
    "    for (k in 1:K){\n",
    "      lprob[k,1] = sum(counts[,n] * log(model$mu[k,])) \n",
    "    }\n",
    "    nloglike <- nloglike - logSum(lprob + log(model$rho))\n",
    "  }\n",
    "  \n",
    "  return (nloglike)\n",
    "}\n",
    "\n",
    "##--- Cluster Visualization (Principal Component Analysis) -------------------------------------------------\n",
    "cluster.viz <- function(doc.word.mat, color.vector, title=' '){\n",
    "  p.comp <- prcomp(doc.word.mat, scale. = TRUE, center = TRUE)\n",
    "  plot(p.comp$x, col=color.vector, pch=1,  main=title)\n",
    "} "
   ]
  },
  {
   "cell_type": "markdown",
   "metadata": {},
   "source": [
    "**Task 2. Implement the hard-EM (you derived above) and soft-EM (derived in Chapter 5 of Module 4).**\n",
    "\n",
    "* The M step remains same for hard and soft EM but E step is different for both. \n",
    "* In E step of hard EM, we assign the data point to the cluster with maxmum probability unlike incase of soft EM where a data point  can be assigned partially to different clusters.\n",
    "* In M step for hard and soft EM, we estimate the parameters mu and rho using the posterior probability calculated in the E step by Maximum likelihood estimation method.\n"
   ]
  },
  {
   "cell_type": "markdown",
   "metadata": {},
   "source": [
    "**E step for soft EM**"
   ]
  },
  {
   "cell_type": "code",
   "execution_count": 3,
   "metadata": {},
   "outputs": [],
   "source": [
    "\n",
    "##--- E Step for Document Clustering  --------------------------------------------\n",
    "# this function currently implements the E-step of the soft-EM\n",
    "# Student needs to modify this function if wants to make it Hard-EM \n",
    "#\n",
    "E.step.soft <- function(gamma, model, counts){\n",
    "  # Model Parameter Setting\n",
    "  N <- dim(counts)[2] # number of documents\n",
    "  K <- dim(model$mu)[1]\n",
    "\n",
    "  # E step:    \n",
    "  for (n in 1:N){\n",
    "    for (k in 1:K){\n",
    "      ## calculate the posterior based on the estimated mu and rho in the \"log space\"\n",
    "      gamma[n,k] <- log(model$rho[k,1]) +  sum(counts[,n] * log(model$mu[k,])) \n",
    "    }\n",
    "    # normalisation to sum to 1 in the log space\n",
    "    logZ = logSum(gamma[n,])\n",
    "    gamma[n,] = gamma[n,] - logZ\n",
    "  }\n",
    "  \n",
    "  # converting back from the log space \n",
    "  gamma <- exp(gamma)\n",
    "  return (gamma)\n",
    "}"
   ]
  },
  {
   "cell_type": "markdown",
   "metadata": {},
   "source": [
    "**E step for hard EM**"
   ]
  },
  {
   "cell_type": "code",
   "execution_count": 4,
   "metadata": {},
   "outputs": [],
   "source": [
    "\n",
    "E.step.hard <- function(gamma, model, counts){\n",
    "  # Model Parameter Setting\n",
    "  N <- dim(counts)[2] # number of documents\n",
    "  K <- dim(model$mu)[1]\n",
    "\n",
    "  # E step:    \n",
    "  for (n in 1:N){\n",
    "    for (k in 1:K){\n",
    "      ## calculate the posterior based on the estimated mu and rho in the \"log space\"\n",
    "      gamma[n,k] <- log(model$rho[k,1]) +  sum(counts[,n] * log(model$mu[k,]))\n",
    "    }\n",
    "    # normalisation to sum to 1 in the log space\n",
    "    logZ = logSum(gamma[n,])\n",
    "    gamma[n,] = gamma[n,] - logZ\n",
    "  }\n",
    "  \n",
    "  # converting back from the log space \n",
    "  gamma <- exp(gamma)\n",
    "\n",
    "    # hard assignments:\n",
    "    max.prob <- gamma==apply(gamma, 1, max) # for each point find the cluster with the maximum (estimated) probability\n",
    "    gamma[max.prob] <- 1 # assign each point to the cluster with the highest probability\n",
    "    gamma[!max.prob] <- 0 # remove points from clusters with lower probabilites\n",
    "\n",
    "  return (gamma)\n",
    "}\n"
   ]
  },
  {
   "cell_type": "markdown",
   "metadata": {},
   "source": [
    "**M step**"
   ]
  },
  {
   "cell_type": "code",
   "execution_count": 5,
   "metadata": {},
   "outputs": [],
   "source": [
    "##--- M Step for Document Clustering  --------------------------------------------\n",
    "M.step <- function(gamma, model, counts){\n",
    "  # Model Parameter Setting\n",
    "  N <- dim(counts)[2]   # number of documents\n",
    "  W <- dim(counts)[1]   # number of words i.e. vocabulary size\n",
    "  K <- dim(model$mu)[1] # number of clusters\n",
    "    \n",
    "    # M step:\n",
    "        for (k in 1:K){\n",
    "            model$rho[k] <- sum(gamma[,k])/N     # the relative cluster size\n",
    "            for (w in 1:W){      \n",
    "        model$mu[k,w] <- sum(gamma[,k] *counts[w,])/sum(gamma[,K]*counts) # new means (cluster cenroids)\n",
    "      \n",
    "    }   # normalisation to sum to 1 in the log space\n",
    "            \n",
    "          model$mu[k,]= (model$mu[k,]+eps)/sum(model$mu[k,]+W*eps)  \n",
    "        }\n",
    "  # Return the result\n",
    "  return (model)\n",
    "}\n",
    "\n"
   ]
  },
  {
   "cell_type": "markdown",
   "metadata": {},
   "source": [
    "**Task 3. Load Task2A.text file and necessary libraries (if needed, perform text preprocessing\n",
    "similar to what we did in Activity 4.2), set the number of clusters K=4, and run both\n",
    "the soft-EM and hard-EM algorithms on the provided data.**"
   ]
  },
  {
   "cell_type": "markdown",
   "metadata": {},
   "source": [
    "### Soft Clustering"
   ]
  },
  {
   "cell_type": "code",
   "execution_count": 6,
   "metadata": {},
   "outputs": [],
   "source": [
    "##--- EM for Document Clustering --------------------------------------------\n",
    "EM_soft <- function(counts, K=4, max.epoch=10, seed=123456){\n",
    "  #INPUTS:\n",
    "  ## counts: word count matrix\n",
    "  ## K: the number of clusters\n",
    "  #OUTPUTS:\n",
    "  ## model: a list of model parameters\n",
    "  \n",
    "  # Model Parameter Setting\n",
    "  N <- dim(counts)[2] # number of documents\n",
    "  W <- dim(counts)[1] # number of unique words (in all documents)\n",
    "  \n",
    "  # Initialization\n",
    "  model <- initial.param(W, K=K, seed=seed)\n",
    "  gamma <- matrix(0, nrow = N, ncol = K)\n",
    "\n",
    "  print(train_obj(model,counts))\n",
    "  # Build the model\n",
    "  for(epoch in 1:max.epoch){\n",
    "    \n",
    "    # E Step\n",
    "    gamma <- E.step.soft(gamma, model, counts)\n",
    "    # M Step\n",
    "    model <- M.step(gamma, model, counts)\n",
    "   \n",
    "    print(train_obj(model,counts)) \n",
    "  }\n",
    "  # Return Model\n",
    "  return(list(\"model\"=model,\"gamma\"=gamma))\n",
    "}\n",
    "\n"
   ]
  },
  {
   "cell_type": "markdown",
   "metadata": {},
   "source": [
    "### Hard Clustering"
   ]
  },
  {
   "cell_type": "code",
   "execution_count": 7,
   "metadata": {},
   "outputs": [],
   "source": [
    "##--- EM for Document Clustering --------------------------------------------\n",
    "EM_hard <- function(counts, K=4, max.epoch=10, seed=123456){\n",
    "  #INPUTS:\n",
    "  ## counts: word count matrix\n",
    "  ## K: the number of clusters\n",
    "  #OUTPUTS:\n",
    "  ## model: a list of model parameters\n",
    "  \n",
    "  # Model Parameter Setting\n",
    "  N <- dim(counts)[2] # number of documents\n",
    "  W <- dim(counts)[1] # number of unique words (in all documents)\n",
    "  \n",
    "  # Initialization\n",
    "  model <- initial.param(W, K=K, seed=seed)\n",
    "  gamma <- matrix(0, nrow = N, ncol = K)\n",
    "\n",
    "  print(train_obj(model,counts))\n",
    "  # Build the model\n",
    "  for(epoch in 1:max.epoch){\n",
    "    \n",
    "    # E Step\n",
    "    gamma <- E.step.hard(gamma, model, counts)\n",
    "    # M Step\n",
    "    model <- M.step(gamma, model, counts)\n",
    "   \n",
    "    print(train_obj(model,counts)) \n",
    "  }\n",
    "  # Return Model\n",
    "  return(list(\"model\"=model,\"gamma\"=gamma))\n",
    "}"
   ]
  },
  {
   "cell_type": "markdown",
   "metadata": {},
   "source": [
    "### Main Body for calling Functions"
   ]
  },
  {
   "cell_type": "code",
   "execution_count": 8,
   "metadata": {
    "scrolled": false
   },
   "outputs": [
    {
     "name": "stdout",
     "output_type": "stream",
     "text": [
      "[1] 2180149\n",
      "[1] 1946508\n",
      "[1] 1925158\n",
      "[1] 1919440\n",
      "[1] 1917429\n",
      "[1] 1915906\n",
      "[1] 1915403\n",
      "[1] 1914848\n",
      "[1] 1914173\n",
      "[1] 1913732\n",
      "[1] 1913394\n",
      "[1] 2180771\n",
      "[1] 1944712\n",
      "[1] 1928949\n",
      "[1] 1918885\n",
      "[1] 1914062\n",
      "[1] 1912111\n",
      "[1] 1910434\n",
      "[1] 1909560\n",
      "[1] 1909380\n",
      "[1] 1909301\n",
      "[1] 1909283\n"
     ]
    }
   ],
   "source": [
    "### main body ##################################################################\n",
    "\n",
    "# Reading documents \n",
    "## Note: sample.size=0 means all read all documents!\n",
    "##(for develiopment and debugging use a smaller subset e.g., sample.size = 40)\n",
    "data <- read.data(file.name='Task2A.txt',seed=100, pre.proc=TRUE, spr.ratio= .99)\n",
    "\n",
    "# word-document frequency matrix \n",
    "counts <- data$word.doc.mat        \n",
    "# below is toy data if you want to work with\n",
    "# counts <- matrix(c(1,1,0,1,0,0,0,1,1,1,0,1,0,0,1,1,0,0),nrow=3,ncol=6)\n",
    "\n",
    "# calling the EM algorithm on the data\n",
    "res_soft <- EM_soft(counts, K=4, max.epoch=10)   \n",
    "res_hard <- EM_hard(counts, K=4, max.epoch=10)   \n",
    "\n",
    "# visualization\n",
    "## find the culster with the maximum probability (since we have soft assignment here)\n",
    "label.hat.soft <- apply(res_soft$gamma, 1, which.max) \n",
    "label.hat.hard <- apply(res_hard$gamma, 1, which.max) \n",
    "## normalize the count matrix for better visualization\n",
    "counts<-scale(counts) # only use when the dimensionality of the data (number of words) is large enough\n"
   ]
  },
  {
   "cell_type": "markdown",
   "metadata": {},
   "source": [
    "**Task 4. Perform a PCA on the clusterings that you get based on the hard-EM and soft-EM in\n",
    "the same way we did in Activity 4.2. Then, visualize the obtained clusters with\n",
    "different colors where x and y axes are the first two principal components**"
   ]
  },
  {
   "cell_type": "code",
   "execution_count": 10,
   "metadata": {
    "scrolled": false
   },
   "outputs": [
    {
     "data": {
      "image/png": "[encoded data removed]",
      "text/plain": [
       "Plot with title \"Real Clusters\""
      ]
     },
     "metadata": {},
     "output_type": "display_data"
    },
    {
     "data": {
      "image/png": "[encoded data removed]",
      "text/plain": [
       "Plot with title \"Estimated Clusters (Soft EM)\""
      ]
     },
     "metadata": {},
     "output_type": "display_data"
    },
    {
     "data": {
      "image/png": "[encoded data removed]",
      "text/plain": [
       "Plot with title \"Estimated Clusters (hard EM)\""
      ]
     },
     "metadata": {},
     "output_type": "display_data"
    }
   ],
   "source": [
    "\n",
    "##--- Cluster Visualization (Principal Component Analysis) -------------------------------------------------\n",
    "\n",
    "## visualize the real clusters\n",
    "cluster.viz(t(counts), factor(data$label), 'Real Clusters')\n",
    "\n",
    "## visualize the stimated clusters\n",
    "cluster.viz(t(counts), label.hat.soft, 'Estimated Clusters (Soft EM)')\n",
    "cluster.viz(t(counts), label.hat.hard, 'Estimated Clusters (hard EM)')\n",
    "\n"
   ]
  }
 ],
 "metadata": {
  "kernelspec": {
   "display_name": "R",
   "language": "R",
   "name": "ir"
  },
  "language_info": {
   "codemirror_mode": "r",
   "file_extension": ".r",
   "mimetype": "text/x-r-source",
   "name": "R",
   "pygments_lexer": "r",
   "version": "3.6.0"
  }
 },
 "nbformat": 4,
 "nbformat_minor": 2
}
