{
 "cells": [
  {
   "cell_type": "markdown",
   "metadata": {},
   "source": [
    "#### Task1: Load Task2C_labeled.csv, Task2C_unlabeled.csv and Task2C_test.csv data sets and required libraries (e.g., H2O)."
   ]
  },
  {
   "cell_type": "code",
   "execution_count": 43,
   "metadata": {},
   "outputs": [
    {
     "name": "stdout",
     "output_type": "stream",
     "text": [
      " Connection successful!\n",
      "\n",
      "R is connected to the H2O cluster: \n",
      "    H2O cluster uptime:         16 hours 26 minutes \n",
      "    H2O cluster timezone:       Australia/Sydney \n",
      "    H2O data parsing timezone:  UTC \n",
      "    H2O cluster version:        3.26.0.2 \n",
      "    H2O cluster version age:    2 months and 20 days  \n",
      "    H2O cluster name:           H2O_started_from_R_rohan_dye013 \n",
      "    H2O cluster total nodes:    1 \n",
      "    H2O cluster total memory:   0.53 GB \n",
      "    H2O cluster total cores:    4 \n",
      "    H2O cluster allowed cores:  4 \n",
      "    H2O cluster healthy:        TRUE \n",
      "    H2O Connection ip:          localhost \n",
      "    H2O Connection port:        54321 \n",
      "    H2O Connection proxy:       NA \n",
      "    H2O Internal Security:      FALSE \n",
      "    H2O API Extensions:         Amazon S3, Algos, AutoML, Core V3, Core V4 \n",
      "    R Version:                  R version 3.6.0 (2019-04-26) \n",
      "\n"
     ]
    }
   ],
   "source": [
    "#Loading Libraries\n",
    "set.seed(111)\n",
    "options(warn=-1)\n",
    "library(h2o)\n",
    "library(ggplot2)\n",
    "\n",
    "#Initialise H2o\n",
    "\n",
    "localH2O =  h2o.init(nthreads = -1, port = 54321, max_mem_size = '1G', startH2O = TRUE,ip=\"localhost\")\n"
   ]
  },
  {
   "cell_type": "code",
   "execution_count": 44,
   "metadata": {},
   "outputs": [
    {
     "name": "stdout",
     "output_type": "stream",
     "text": [
      "  |======================================================================| 100%\n",
      "  |======================================================================| 100%\n",
      "  |======================================================================| 100%\n"
     ]
    }
   ],
   "source": [
    "#Loading the data\n",
    "\n",
    "##########################\n",
    "# Students: Use the \"absolute\" path to the datasets on your machine (important)\n",
    "labeled.frame <- h2o.importFile(path = './Task2C_labeled.csv' ,sep=',') \n",
    "unlabeled.frame <- h2o.importFile(path = './Task2C_unlabeled.csv' ,sep=',') \n",
    "test.frame <- h2o.importFile(path = './Task2C_test.csv' ,sep=',') \n",
    "\n",
    "labeled.frame[,1] <- as.factor(labeled.frame$label)\n",
    "unlabeled.frame[,1] <- NA\n",
    "train.frame <- h2o.rbind(labeled.frame[,-1], unlabeled.frame[,-1])\n",
    "test.frame[,1] <- as.factor(test.frame$label)\n"
   ]
  },
  {
   "cell_type": "code",
   "execution_count": 45,
   "metadata": {},
   "outputs": [],
   "source": [
    "####################### GENERAL AUXILIARY FUNCTIONS #######################\n",
    "## The following structure helps us to have functions with multiple outputs\n",
    "### credit: https://stat.ethz.ch/pipermail/r-help/2004-June/053343.html\n",
    "\n",
    "error.rate <- function(Y1, T1){\n",
    "  if (nrow(Y1)!=nrow(T1)){\n",
    "    stop('error.rate: size of true lables and predicted labels mismatch')\n",
    "  }\n",
    "  return (sum(T1!=Y1)/nrow(T1))\n",
    "}\n",
    "\n",
    "\n",
    "# autoencoder funtion\n",
    "\n",
    "auto_encoder <- function(train.frame, units)\n",
    "{\n",
    "  NN.model <- h2o.deeplearning(    \n",
    "  x = 1:ncol(train.frame), # select all pixels\n",
    "  training_frame = train.frame, # specify the frame (imported file)    \n",
    "  hidden = units, # number of layers and their units\n",
    "  epochs = 50, # maximum number of epoches  \n",
    "  activation = 'Tanh', # activation function \n",
    "  autoencoder = TRUE, # is it an autoencoder? Yes!\n",
    "  l2 = 0.1     \n",
    ")\n",
    "return(NN.model)\n",
    "}\n",
    "\n",
    "# classifier funtion\n",
    "\n",
    "classifier_nn <- function(labeled.frame, units)\n",
    "{\n",
    "  NN.model <- h2o.deeplearning(    \n",
    "  x = 2:ncol(labeled.frame), #  select all pixels + extra features\n",
    "  y = 1,\n",
    "  training_frame = labeled.frame, # specify the frame (imported file)    \n",
    "  hidden = units, # number of layers and their units\n",
    "  epochs = 50, # maximum number of epoches  \n",
    "  activation = 'Tanh', # activation function \n",
    "  autoencoder = FALSE, # is it an autoencoder? Yes!\n",
    "  l2 = 0.1\n",
    ")\n",
    "return(NN.model)\n",
    "}"
   ]
  },
  {
   "cell_type": "markdown",
   "metadata": {},
   "source": [
    "#### Task2:Train an autoencoder (similar to Activity 5.2) with only one hidden layer and change the number of its neurons to: 20, 40, 60, 80, .., 500\n",
    "\n",
    "#### Task3: For each model in Step II, calculate and record the reconstruction error. Plot these values where the x-axis is the number of units in the middle layer and the y-axis is the reconstruction error.Explain your findings\n",
    "\n",
    "#### Task5: Build augmented self-taught networks using the models learnt in Step II. For each model:\n",
    "   * **A. Add the output of the middle layer as extra features to the original feature set.**\n",
    "   * **B. Train a 3-layer NN (similar to Step 4) using all features (original + extra).Then calculate and record the test error.**"
   ]
  },
  {
   "cell_type": "code",
   "execution_count": 46,
   "metadata": {},
   "outputs": [
    {
     "name": "stdout",
     "output_type": "stream",
     "text": [
      "  |======================================================================| 100%\n",
      "  |======================================================================| 100%\n",
      "  |======================================================================| 100%\n",
      "  |======================================================================| 100%\n",
      "  |======================================================================| 100%\n",
      "  |======================================================================| 100%\n",
      "  |======================================================================| 100%\n",
      "  |======================================================================| 100%\n",
      "  |======================================================================| 100%\n",
      "  |======================================================================| 100%\n",
      "  |======================================================================| 100%\n",
      "  |======================================================================| 100%\n",
      "  |======================================================================| 100%\n",
      "  |======================================================================| 100%\n",
      "  |======================================================================| 100%\n",
      "  |======================================================================| 100%\n",
      "  |======================================================================| 100%\n",
      "  |======================================================================| 100%\n",
      "  |======================================================================| 100%\n",
      "  |======================================================================| 100%\n",
      "  |======================================================================| 100%\n",
      "  |======================================================================| 100%\n",
      "  |======================================================================| 100%\n",
      "  |======================================================================| 100%\n",
      "  |======================================================================| 100%\n",
      "  |======================================================================| 100%\n",
      "  |======================================================================| 100%\n",
      "  |======================================================================| 100%\n",
      "  |======================================================================| 100%\n",
      "  |======================================================================| 100%\n",
      "  |======================================================================| 100%\n",
      "  |======================================================================| 100%\n",
      "  |======================================================================| 100%\n",
      "  |======================================================================| 100%\n",
      "  |======================================================================| 100%\n",
      "  |======================================================================| 100%\n",
      "  |======================================================================| 100%\n",
      "  |======================================================================| 100%\n",
      "  |======================================================================| 100%\n",
      "  |======================================================================| 100%\n",
      "  |======================================================================| 100%\n",
      "  |======================================================================| 100%\n",
      "  |======================================================================| 100%\n",
      "  |======================================================================| 100%\n",
      "  |======================================================================| 100%\n",
      "  |======================================================================| 100%\n",
      "  |======================================================================| 100%\n",
      "  |======================================================================| 100%\n",
      "  |======================================================================| 100%\n",
      "  |======================================================================| 100%\n",
      "  |======================================================================| 100%\n",
      "  |======================================================================| 100%\n",
      "  |======================================================================| 100%\n",
      "  |======================================================================| 100%\n",
      "  |======================================================================| 100%\n",
      "  |======================================================================| 100%\n",
      "  |======================================================================| 100%\n",
      "  |======================================================================| 100%\n",
      "  |======================================================================| 100%\n",
      "  |======================================================================| 100%\n",
      "  |======================================================================| 100%\n",
      "  |======================================================================| 100%\n",
      "  |======================================================================| 100%\n",
      "  |======================================================================| 100%\n",
      "  |======================================================================| 100%\n",
      "  |======================================================================| 100%\n",
      "  |======================================================================| 100%\n",
      "  |======================================================================| 100%\n",
      "  |======================================================================| 100%\n",
      "  |======================================================================| 100%\n",
      "  |======================================================================| 100%\n",
      "  |======================================================================| 100%\n",
      "  |======================================================================| 100%\n",
      "  |======================================================================| 100%\n",
      "  |======================================================================| 100%\n",
      "  |======================================================================| 100%\n",
      "  |======================================================================| 100%\n",
      "  |======================================================================| 100%\n",
      "  |======================================================================| 100%\n",
      "  |======================================================================| 100%\n",
      "  |======================================================================| 100%\n",
      "  |======================================================================| 100%\n",
      "  |======================================================================| 100%\n",
      "  |======================================================================| 100%\n",
      "  |======================================================================| 100%\n",
      "  |======================================================================| 100%\n",
      "  |======================================================================| 100%\n",
      "  |======================================================================| 100%\n",
      "  |======================================================================| 100%\n",
      "  |======================================================================| 100%\n",
      "  |======================================================================| 100%\n",
      "  |======================================================================| 100%\n",
      "  |======================================================================| 100%\n",
      "  |======================================================================| 100%\n",
      "  |======================================================================| 100%\n",
      "  |======================================================================| 100%\n",
      "  |======================================================================| 100%\n",
      "  |======================================================================| 100%\n",
      "  |======================================================================| 100%\n",
      "  |======================================================================| 100%\n"
     ]
    }
   ],
   "source": [
    "K=seq(20, 500, 20)  #Iterate on K in intervals of 20\n",
    "\n",
    "#Initialise dataframe to record reconstruction and classification errors\n",
    "reconstruction.error <- data.frame(k=rep(K, each=1),reconstruction_test_error=rep(0, length(K)))\n",
    "classification.error <- data.frame(k=rep(K, each=1),classification_test_error=rep(0, length(K)))\n",
    "\n",
    "for (k in K){\n",
    "    \n",
    "    # Building an Autoencoder\n",
    "    encoder_output = auto_encoder(train.frame, k)\n",
    "    \n",
    "    # Calculating the error on Autoencoder outputs\n",
    "    error <- h2o.anomaly(encoder_output, train.frame)\n",
    "    \n",
    "    # Record the mean error to the dataframe\n",
    "    reconstruction.error[reconstruction.error$k==k, c('reconstruction_test_error')] <- mean(error)\n",
    "    \n",
    "    # Generating the extra features from the autoencoder\n",
    "    extraFeatures = h2o.deepfeatures(encoder_output, labeled.frame[,-1], layer=1)\n",
    "    \n",
    "    # Concatenating the added features to the original inputs\n",
    "    all_features <- h2o.cbind(labeled.frame, extraFeatures)\n",
    "    \n",
    "    # Training the 3-layer NN classifier using all features (original + extra)\n",
    "    classifier = classifier_nn(all_features, 100)\n",
    "    \n",
    "    # calculating the prediction using classifier model on test data\n",
    "    prediction <- h2o.predict(classifier,test.frame)\n",
    "    \n",
    "    # calculating and recording the classification error\n",
    "    cls_error <- error.rate(prediction[,1], test.frame[,1])\n",
    "    classification.error[classification.error$k==k, c('classification_test_error')] <- cls_error\n",
    "    \n",
    "    \n",
    "    #Removing the unwanted variables generated in the loop\n",
    "    rm(encoder_output,error,extraFeatures,all_features,classifier,prediction)\n",
    "    \n",
    "}\n"
   ]
  },
  {
   "cell_type": "markdown",
   "metadata": {},
   "source": [
    "####  Plot of Reconstruction Error vs. Hidden Layer and explaination of the findings (Task 3)\n",
    "\n",
    "* We get a the minimum error of 0.003673218 at k=480 \n",
    "* It can be seen from the below plot that the reconstruction error follows the general trend,i.e it decreases with increase in the number of neurons in the middle layer."
   ]
  },
  {
   "cell_type": "code",
   "execution_count": 47,
   "metadata": {},
   "outputs": [
    {
     "data": {
      "text/html": [
       "<table>\n",
       "<caption>A data.frame: 25 × 2</caption>\n",
       "<thead>\n",
       "\t<tr><th scope=col>k</th><th scope=col>reconstruction_test_error</th></tr>\n",
       "\t<tr><th scope=col>&lt;dbl&gt;</th><th scope=col>&lt;dbl&gt;</th></tr>\n",
       "</thead>\n",
       "<tbody>\n",
       "\t<tr><td> 20</td><td>0.011347880</td></tr>\n",
       "\t<tr><td> 40</td><td>0.007013837</td></tr>\n",
       "\t<tr><td> 60</td><td>0.005643241</td></tr>\n",
       "\t<tr><td> 80</td><td>0.005265462</td></tr>\n",
       "\t<tr><td>100</td><td>0.004618410</td></tr>\n",
       "\t<tr><td>120</td><td>0.004887337</td></tr>\n",
       "\t<tr><td>140</td><td>0.004513605</td></tr>\n",
       "\t<tr><td>160</td><td>0.004661023</td></tr>\n",
       "\t<tr><td>180</td><td>0.004389012</td></tr>\n",
       "\t<tr><td>200</td><td>0.004336405</td></tr>\n",
       "\t<tr><td>220</td><td>0.004340250</td></tr>\n",
       "\t<tr><td>240</td><td>0.004133492</td></tr>\n",
       "\t<tr><td>260</td><td>0.004113103</td></tr>\n",
       "\t<tr><td>280</td><td>0.003997164</td></tr>\n",
       "\t<tr><td>300</td><td>0.004235969</td></tr>\n",
       "\t<tr><td>320</td><td>0.004087349</td></tr>\n",
       "\t<tr><td>340</td><td>0.004267983</td></tr>\n",
       "\t<tr><td>360</td><td>0.004158669</td></tr>\n",
       "\t<tr><td>380</td><td>0.004177647</td></tr>\n",
       "\t<tr><td>400</td><td>0.004094762</td></tr>\n",
       "\t<tr><td>420</td><td>0.004156894</td></tr>\n",
       "\t<tr><td>440</td><td>0.003764333</td></tr>\n",
       "\t<tr><td>460</td><td>0.003799035</td></tr>\n",
       "\t<tr><td>480</td><td>0.003673218</td></tr>\n",
       "\t<tr><td>500</td><td>0.003951165</td></tr>\n",
       "</tbody>\n",
       "</table>\n"
      ],
      "text/latex": [
       "A data.frame: 25 × 2\n",
       "\\begin{tabular}{r|ll}\n",
       " k & reconstruction\\_test\\_error\\\\\n",
       " <dbl> & <dbl>\\\\\n",
       "\\hline\n",
       "\t  20 & 0.011347880\\\\\n",
       "\t  40 & 0.007013837\\\\\n",
       "\t  60 & 0.005643241\\\\\n",
       "\t  80 & 0.005265462\\\\\n",
       "\t 100 & 0.004618410\\\\\n",
       "\t 120 & 0.004887337\\\\\n",
       "\t 140 & 0.004513605\\\\\n",
       "\t 160 & 0.004661023\\\\\n",
       "\t 180 & 0.004389012\\\\\n",
       "\t 200 & 0.004336405\\\\\n",
       "\t 220 & 0.004340250\\\\\n",
       "\t 240 & 0.004133492\\\\\n",
       "\t 260 & 0.004113103\\\\\n",
       "\t 280 & 0.003997164\\\\\n",
       "\t 300 & 0.004235969\\\\\n",
       "\t 320 & 0.004087349\\\\\n",
       "\t 340 & 0.004267983\\\\\n",
       "\t 360 & 0.004158669\\\\\n",
       "\t 380 & 0.004177647\\\\\n",
       "\t 400 & 0.004094762\\\\\n",
       "\t 420 & 0.004156894\\\\\n",
       "\t 440 & 0.003764333\\\\\n",
       "\t 460 & 0.003799035\\\\\n",
       "\t 480 & 0.003673218\\\\\n",
       "\t 500 & 0.003951165\\\\\n",
       "\\end{tabular}\n"
      ],
      "text/markdown": [
       "\n",
       "A data.frame: 25 × 2\n",
       "\n",
       "| k &lt;dbl&gt; | reconstruction_test_error &lt;dbl&gt; |\n",
       "|---|---|\n",
       "|  20 | 0.011347880 |\n",
       "|  40 | 0.007013837 |\n",
       "|  60 | 0.005643241 |\n",
       "|  80 | 0.005265462 |\n",
       "| 100 | 0.004618410 |\n",
       "| 120 | 0.004887337 |\n",
       "| 140 | 0.004513605 |\n",
       "| 160 | 0.004661023 |\n",
       "| 180 | 0.004389012 |\n",
       "| 200 | 0.004336405 |\n",
       "| 220 | 0.004340250 |\n",
       "| 240 | 0.004133492 |\n",
       "| 260 | 0.004113103 |\n",
       "| 280 | 0.003997164 |\n",
       "| 300 | 0.004235969 |\n",
       "| 320 | 0.004087349 |\n",
       "| 340 | 0.004267983 |\n",
       "| 360 | 0.004158669 |\n",
       "| 380 | 0.004177647 |\n",
       "| 400 | 0.004094762 |\n",
       "| 420 | 0.004156894 |\n",
       "| 440 | 0.003764333 |\n",
       "| 460 | 0.003799035 |\n",
       "| 480 | 0.003673218 |\n",
       "| 500 | 0.003951165 |\n",
       "\n"
      ],
      "text/plain": [
       "   k   reconstruction_test_error\n",
       "1   20 0.011347880              \n",
       "2   40 0.007013837              \n",
       "3   60 0.005643241              \n",
       "4   80 0.005265462              \n",
       "5  100 0.004618410              \n",
       "6  120 0.004887337              \n",
       "7  140 0.004513605              \n",
       "8  160 0.004661023              \n",
       "9  180 0.004389012              \n",
       "10 200 0.004336405              \n",
       "11 220 0.004340250              \n",
       "12 240 0.004133492              \n",
       "13 260 0.004113103              \n",
       "14 280 0.003997164              \n",
       "15 300 0.004235969              \n",
       "16 320 0.004087349              \n",
       "17 340 0.004267983              \n",
       "18 360 0.004158669              \n",
       "19 380 0.004177647              \n",
       "20 400 0.004094762              \n",
       "21 420 0.004156894              \n",
       "22 440 0.003764333              \n",
       "23 460 0.003799035              \n",
       "24 480 0.003673218              \n",
       "25 500 0.003951165              "
      ]
     },
     "metadata": {},
     "output_type": "display_data"
    }
   ],
   "source": [
    " reconstruction.error #Record of Reconstruction Error   "
   ]
  },
  {
   "cell_type": "code",
   "execution_count": 48,
   "metadata": {
    "scrolled": false
   },
   "outputs": [
    {
     "data": {
      "image/png": "[encoded data removed]",
      "text/plain": [
       "Plot with title \"Reconstruction Error vs. Hidden Layer\""
      ]
     },
     "metadata": {},
     "output_type": "display_data"
    }
   ],
   "source": [
    "# Ploting reconstruction error\n",
    "plot(reconstruction.error,type='o',ylab='Reconstruction Error',xlab='Hidden layers',main='Reconstruction Error vs. Hidden Layer')"
   ]
  },
  {
   "cell_type": "markdown",
   "metadata": {},
   "source": [
    "#### Task4. Use the 3-layer NN from Activity 5.1 or “h2o.deeplearning” function (make sure you set “ autoencoder = FALSE”) to build a classification model with 100 units in the hidden layer using all the original attributes from the training set. Then, calculate and record the test error."
   ]
  },
  {
   "cell_type": "code",
   "execution_count": 49,
   "metadata": {},
   "outputs": [
    {
     "name": "stdout",
     "output_type": "stream",
     "text": [
      "  |======================================================================| 100%\n",
      "  |======================================================================| 100%\n",
      "  |======================================================================| 100%\n",
      "  |======================================================================| 100%\n"
     ]
    }
   ],
   "source": [
    "#buliding the classifier model on training data\n",
    "label.pred <- h2o.predict(classifier_nn(labeled.frame,100), labeled.frame)$predict\n",
    "\n",
    "# calculating error on training data\n",
    "train.error = error.rate(labeled.frame$label, label.pred)\n",
    "\n",
    "#Building model on test data\n",
    "test.predict <- h2o.predict(classifier_nn(labeled.frame,100), test.frame)$predict\n",
    "\n",
    "#calculating error rate on test dataset\n",
    "test.error = error.rate(test.frame$label, test.predict)"
   ]
  },
  {
   "cell_type": "code",
   "execution_count": 50,
   "metadata": {},
   "outputs": [
    {
     "data": {
      "text/html": [
       "0.506"
      ],
      "text/latex": [
       "0.506"
      ],
      "text/markdown": [
       "0.506"
      ],
      "text/plain": [
       "[1] 0.506"
      ]
     },
     "metadata": {},
     "output_type": "display_data"
    }
   ],
   "source": [
    "test.error  #Displaying the test error"
   ]
  },
  {
   "cell_type": "markdown",
   "metadata": {},
   "source": [
    "####  Task6. Record classification Error and Plot Number of Extra fratures v.s  Reconstruction Error "
   ]
  },
  {
   "cell_type": "code",
   "execution_count": 51,
   "metadata": {},
   "outputs": [
    {
     "data": {
      "text/html": [
       "<table>\n",
       "<caption>A data.frame: 25 × 2</caption>\n",
       "<thead>\n",
       "\t<tr><th scope=col>k</th><th scope=col>classification_test_error</th></tr>\n",
       "\t<tr><th scope=col>&lt;dbl&gt;</th><th scope=col>&lt;dbl&gt;</th></tr>\n",
       "</thead>\n",
       "<tbody>\n",
       "\t<tr><td> 20</td><td>0.541</td></tr>\n",
       "\t<tr><td> 40</td><td>0.342</td></tr>\n",
       "\t<tr><td> 60</td><td>0.563</td></tr>\n",
       "\t<tr><td> 80</td><td>0.637</td></tr>\n",
       "\t<tr><td>100</td><td>0.635</td></tr>\n",
       "\t<tr><td>120</td><td>0.553</td></tr>\n",
       "\t<tr><td>140</td><td>0.593</td></tr>\n",
       "\t<tr><td>160</td><td>0.565</td></tr>\n",
       "\t<tr><td>180</td><td>0.585</td></tr>\n",
       "\t<tr><td>200</td><td>0.579</td></tr>\n",
       "\t<tr><td>220</td><td>0.612</td></tr>\n",
       "\t<tr><td>240</td><td>0.562</td></tr>\n",
       "\t<tr><td>260</td><td>0.589</td></tr>\n",
       "\t<tr><td>280</td><td>0.600</td></tr>\n",
       "\t<tr><td>300</td><td>0.327</td></tr>\n",
       "\t<tr><td>320</td><td>0.533</td></tr>\n",
       "\t<tr><td>340</td><td>0.658</td></tr>\n",
       "\t<tr><td>360</td><td>0.337</td></tr>\n",
       "\t<tr><td>380</td><td>0.628</td></tr>\n",
       "\t<tr><td>400</td><td>0.564</td></tr>\n",
       "\t<tr><td>420</td><td>0.522</td></tr>\n",
       "\t<tr><td>440</td><td>0.631</td></tr>\n",
       "\t<tr><td>460</td><td>0.599</td></tr>\n",
       "\t<tr><td>480</td><td>0.587</td></tr>\n",
       "\t<tr><td>500</td><td>0.635</td></tr>\n",
       "</tbody>\n",
       "</table>\n"
      ],
      "text/latex": [
       "A data.frame: 25 × 2\n",
       "\\begin{tabular}{r|ll}\n",
       " k & classification\\_test\\_error\\\\\n",
       " <dbl> & <dbl>\\\\\n",
       "\\hline\n",
       "\t  20 & 0.541\\\\\n",
       "\t  40 & 0.342\\\\\n",
       "\t  60 & 0.563\\\\\n",
       "\t  80 & 0.637\\\\\n",
       "\t 100 & 0.635\\\\\n",
       "\t 120 & 0.553\\\\\n",
       "\t 140 & 0.593\\\\\n",
       "\t 160 & 0.565\\\\\n",
       "\t 180 & 0.585\\\\\n",
       "\t 200 & 0.579\\\\\n",
       "\t 220 & 0.612\\\\\n",
       "\t 240 & 0.562\\\\\n",
       "\t 260 & 0.589\\\\\n",
       "\t 280 & 0.600\\\\\n",
       "\t 300 & 0.327\\\\\n",
       "\t 320 & 0.533\\\\\n",
       "\t 340 & 0.658\\\\\n",
       "\t 360 & 0.337\\\\\n",
       "\t 380 & 0.628\\\\\n",
       "\t 400 & 0.564\\\\\n",
       "\t 420 & 0.522\\\\\n",
       "\t 440 & 0.631\\\\\n",
       "\t 460 & 0.599\\\\\n",
       "\t 480 & 0.587\\\\\n",
       "\t 500 & 0.635\\\\\n",
       "\\end{tabular}\n"
      ],
      "text/markdown": [
       "\n",
       "A data.frame: 25 × 2\n",
       "\n",
       "| k &lt;dbl&gt; | classification_test_error &lt;dbl&gt; |\n",
       "|---|---|\n",
       "|  20 | 0.541 |\n",
       "|  40 | 0.342 |\n",
       "|  60 | 0.563 |\n",
       "|  80 | 0.637 |\n",
       "| 100 | 0.635 |\n",
       "| 120 | 0.553 |\n",
       "| 140 | 0.593 |\n",
       "| 160 | 0.565 |\n",
       "| 180 | 0.585 |\n",
       "| 200 | 0.579 |\n",
       "| 220 | 0.612 |\n",
       "| 240 | 0.562 |\n",
       "| 260 | 0.589 |\n",
       "| 280 | 0.600 |\n",
       "| 300 | 0.327 |\n",
       "| 320 | 0.533 |\n",
       "| 340 | 0.658 |\n",
       "| 360 | 0.337 |\n",
       "| 380 | 0.628 |\n",
       "| 400 | 0.564 |\n",
       "| 420 | 0.522 |\n",
       "| 440 | 0.631 |\n",
       "| 460 | 0.599 |\n",
       "| 480 | 0.587 |\n",
       "| 500 | 0.635 |\n",
       "\n"
      ],
      "text/plain": [
       "   k   classification_test_error\n",
       "1   20 0.541                    \n",
       "2   40 0.342                    \n",
       "3   60 0.563                    \n",
       "4   80 0.637                    \n",
       "5  100 0.635                    \n",
       "6  120 0.553                    \n",
       "7  140 0.593                    \n",
       "8  160 0.565                    \n",
       "9  180 0.585                    \n",
       "10 200 0.579                    \n",
       "11 220 0.612                    \n",
       "12 240 0.562                    \n",
       "13 260 0.589                    \n",
       "14 280 0.600                    \n",
       "15 300 0.327                    \n",
       "16 320 0.533                    \n",
       "17 340 0.658                    \n",
       "18 360 0.337                    \n",
       "19 380 0.628                    \n",
       "20 400 0.564                    \n",
       "21 420 0.522                    \n",
       "22 440 0.631                    \n",
       "23 460 0.599                    \n",
       "24 480 0.587                    \n",
       "25 500 0.635                    "
      ]
     },
     "metadata": {},
     "output_type": "display_data"
    }
   ],
   "source": [
    "classification.error #Record of classification error"
   ]
  },
  {
   "cell_type": "code",
   "execution_count": 52,
   "metadata": {},
   "outputs": [
    {
     "data": {
      "image/png": "[encoded data removed]",
      "text/plain": [
       "Plot with title \"Number of extra features vs. Classification error\""
      ]
     },
     "metadata": {},
     "output_type": "display_data"
    }
   ],
   "source": [
    "plot(classification.error,type='o',col = \"red\",lwd = 2, main='Number of extra features vs. Classification error')\n",
    "grid()"
   ]
  },
  {
   "cell_type": "markdown",
   "metadata": {},
   "source": [
    "#### Task7. Report the optimum number(s) of units in the middle layer of the autoencoder in terms of the reconstruction and misclassification errors."
   ]
  },
  {
   "cell_type": "markdown",
   "metadata": {},
   "source": [
    "* **Optimum number of units in the middle layer in terms of reconstruction eror**"
   ]
  },
  {
   "cell_type": "code",
   "execution_count": 53,
   "metadata": {},
   "outputs": [
    {
     "data": {
      "text/html": [
       "<table>\n",
       "<caption>A data.frame: 1 × 2</caption>\n",
       "<thead>\n",
       "\t<tr><th></th><th scope=col>k</th><th scope=col>reconstruction_test_error</th></tr>\n",
       "\t<tr><th></th><th scope=col>&lt;dbl&gt;</th><th scope=col>&lt;dbl&gt;</th></tr>\n",
       "</thead>\n",
       "<tbody>\n",
       "\t<tr><th scope=row>24</th><td>480</td><td>0.003673218</td></tr>\n",
       "</tbody>\n",
       "</table>\n"
      ],
      "text/latex": [
       "A data.frame: 1 × 2\n",
       "\\begin{tabular}{r|ll}\n",
       "  & k & reconstruction\\_test\\_error\\\\\n",
       "  & <dbl> & <dbl>\\\\\n",
       "\\hline\n",
       "\t24 & 480 & 0.003673218\\\\\n",
       "\\end{tabular}\n"
      ],
      "text/markdown": [
       "\n",
       "A data.frame: 1 × 2\n",
       "\n",
       "| <!--/--> | k &lt;dbl&gt; | reconstruction_test_error &lt;dbl&gt; |\n",
       "|---|---|---|\n",
       "| 24 | 480 | 0.003673218 |\n",
       "\n"
      ],
      "text/plain": [
       "   k   reconstruction_test_error\n",
       "24 480 0.003673218              "
      ]
     },
     "metadata": {},
     "output_type": "display_data"
    }
   ],
   "source": [
    "reconstruction.error[reconstruction.error[,2]==min(reconstruction.error[,2]),]"
   ]
  },
  {
   "cell_type": "markdown",
   "metadata": {},
   "source": [
    "* **Optimum number of units in the middle layer in terms of classification eror**"
   ]
  },
  {
   "cell_type": "code",
   "execution_count": 54,
   "metadata": {},
   "outputs": [
    {
     "data": {
      "text/html": [
       "<table>\n",
       "<caption>A data.frame: 1 × 2</caption>\n",
       "<thead>\n",
       "\t<tr><th></th><th scope=col>k</th><th scope=col>classification_test_error</th></tr>\n",
       "\t<tr><th></th><th scope=col>&lt;dbl&gt;</th><th scope=col>&lt;dbl&gt;</th></tr>\n",
       "</thead>\n",
       "<tbody>\n",
       "\t<tr><th scope=row>15</th><td>300</td><td>0.327</td></tr>\n",
       "</tbody>\n",
       "</table>\n"
      ],
      "text/latex": [
       "A data.frame: 1 × 2\n",
       "\\begin{tabular}{r|ll}\n",
       "  & k & classification\\_test\\_error\\\\\n",
       "  & <dbl> & <dbl>\\\\\n",
       "\\hline\n",
       "\t15 & 300 & 0.327\\\\\n",
       "\\end{tabular}\n"
      ],
      "text/markdown": [
       "\n",
       "A data.frame: 1 × 2\n",
       "\n",
       "| <!--/--> | k &lt;dbl&gt; | classification_test_error &lt;dbl&gt; |\n",
       "|---|---|---|\n",
       "| 15 | 300 | 0.327 |\n",
       "\n"
      ],
      "text/plain": [
       "   k   classification_test_error\n",
       "15 300 0.327                    "
      ]
     },
     "metadata": {},
     "output_type": "display_data"
    }
   ],
   "source": [
    "classification.error[classification.error[,2]==min(classification.error[,2]),]"
   ]
  },
  {
   "cell_type": "markdown",
   "metadata": {},
   "source": [
    "#### Task 8. Comparing the plot from Step III and VI, do you observe any relation between the reconstruction error and misclassification error?"
   ]
  },
  {
   "cell_type": "markdown",
   "metadata": {},
   "source": [
    "* We get a minimum reconstruction error of 0.003673218 for 480 neurons in task3, while in task 6 we get a minimum classification error of 0.327 for 300 extra featues.\n",
    "\n",
    "\n",
    "* The plot in task 3 suggests that generally the reconstruction error decreases with the increase in number of neurons in the middle layer.\n",
    "\n",
    "\n",
    "* But the plot in task6, i.e classification error v.s the extra features, shows no such general behaviour. There are erratic fluctuations in the classification error with respect to the increase in number of extra features and the classification test error is much higher than the reconstruction error.\n",
    "\n",
    "\n",
    "* The main reason for this could be that adding extra features makes the model very complex and hence it leads to overfitting. Therefore the overfitting results in high test error.\n",
    "\n",
    "\n",
    "* One of the ways to improve this could be to increase the number of neurons of the classifier while we add extra features to it, rather than fixing it to 100.\n",
    "\n",
    "\n",
    "* In the autoencoder we are continuously increasing the number of neurons and hence diminishing the error whereas in the classifier we have fixed the neurons to 100 and we keep on increasing the complexity (features), which leads to poor test results."
   ]
  }
 ],
 "metadata": {
  "kernelspec": {
   "display_name": "R",
   "language": "R",
   "name": "ir"
  },
  "language_info": {
   "codemirror_mode": "r",
   "file_extension": ".r",
   "mimetype": "text/x-r-source",
   "name": "R",
   "pygments_lexer": "r",
   "version": "3.6.0"
  }
 },
 "nbformat": 4,
 "nbformat_minor": 2
}
